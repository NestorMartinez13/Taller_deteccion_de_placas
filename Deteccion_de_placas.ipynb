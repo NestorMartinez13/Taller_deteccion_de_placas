{
 "cells": [
  {
   "cell_type": "code",
   "execution_count": null,
   "id": "092a997d",
   "metadata": {},
   "outputs": [],
   "source": [
    "import cv2\n",
    "import numpy as np\n",
    "import matplotlib.pyplot as plt\n",
    "import skimage\n",
    "from PIL import Image\n",
    "from pytesseract import *\n",
    "pytesseract.tesseract_cmd = r\"C:\\Program Files\\Tesseract-OCR\\tesseract.exe\"\n"
   ]
  },
  {
   "cell_type": "code",
   "execution_count": null,
   "id": "e462d70b",
   "metadata": {},
   "outputs": [],
   "source": [
    "def plot_image(img, grayscale=True):\n",
    "    plt.axis('off')\n",
    "    if grayscale:\n",
    "        plt.imshow(img, cmap='gray')\n",
    "    else:\n",
    "        plt.imshow(cv2.cvtColor(img, cv2.COLOR_BGR2RGB))\n",
    "    plt.show()"
   ]
  },
  {
   "cell_type": "code",
   "execution_count": null,
   "id": "a4b86591",
   "metadata": {},
   "outputs": [],
   "source": [
    "img = cv2.imread(f\"Carro1.jpg\")\n",
    "print(img.shape)\n",
    "plot_image(img, False)"
   ]
  },
  {
   "cell_type": "code",
   "execution_count": null,
   "id": "7559ce4d",
   "metadata": {},
   "outputs": [],
   "source": [
    "gray = cv2.cvtColor(img, cv2.COLOR_BGR2GRAY)\n",
    "print(gray.shape)\n",
    "plot_image(gray)"
   ]
  },
  {
   "cell_type": "code",
   "execution_count": null,
   "id": "5c159a27",
   "metadata": {},
   "outputs": [],
   "source": [
    "thresh = cv2.threshold(gray, 170, 255, cv2.THRESH_BINARY_INV)[1]\n",
    "plot_image(thresh)"
   ]
  },
  {
   "cell_type": "code",
   "execution_count": null,
   "id": "85a4bc32",
   "metadata": {},
   "outputs": [],
   "source": [
    "contours = cv2.findContours(thresh, cv2.RETR_LIST, cv2.CHAIN_APPROX_SIMPLE)[0]\n",
    "canvas = np.zeros_like(img)\n",
    "cv2.drawContours(canvas, contours, -1, (0, 255 ,0), 2)\n",
    "plt.axis(\"off\")\n",
    "plt.imshow(canvas);"
   ]
  },
  {
   "cell_type": "code",
   "execution_count": null,
   "id": "805ba1a6",
   "metadata": {},
   "outputs": [],
   "source": [
    "#Medidas de las placas colombianas para vehiculos: 300mmx160mm,\n",
    "#aspect ratio = 1.875\n",
    "license_ratio = 1.875\n",
    "min_an = 282\n",
    "max_an = 400\n",
    "min_al = 200\n",
    "max_al = 289\n",
    "candidates = []\n",
    "for cnt in contours:\n",
    "    x,y,w,h = cv2.boundingRect(cnt)\n",
    "    aspect_ratio = float(w)/h\n",
    "    if (np.isclose(aspect_ratio, license_ratio, atol=3) and\n",
    "       (max_an > w > min_an) and\n",
    "       (max_al > w > min_al)):\n",
    "        candidates.append(cnt)\n",
    "canvas = np.zeros_like(img)\n",
    "cv2.drawContours(canvas, candidates, -1, (0,255,0),2)\n",
    "plt.axis(\"off\")\n",
    "plt.imshow(canvas)"
   ]
  },
  {
   "cell_type": "code",
   "execution_count": null,
   "id": "e8c01f73",
   "metadata": {},
   "outputs": [],
   "source": [
    "ys=[]\n",
    "for cnt in candidates:\n",
    "    x,y,w,h = cv2.boundingRect(cnt)\n",
    "    ys.append(y)\n",
    "license = candidates[np.argmax(ys)]"
   ]
  },
  {
   "cell_type": "code",
   "execution_count": null,
   "id": "000b18d2",
   "metadata": {},
   "outputs": [],
   "source": [
    "x,y,w,h = cv2.boundingRect(license)\n",
    "cropped = img[y:y+h,x+160:x+w]\n",
    "plot_image(cropped, False)"
   ]
  },
  {
   "cell_type": "code",
   "execution_count": null,
   "id": "f50c34ec",
   "metadata": {},
   "outputs": [],
   "source": [
    "gray_cropped = cv2.cvtColor(cropped, cv2.COLOR_BGR2GRAY)\n",
    "thresh_cropped = cv2.adaptiveThreshold(gray_cropped, 255, cv2.ADAPTIVE_THRESH_MEAN_C, cv2.THRESH_BINARY_INV, 7, 13)\n",
    "plot_image(thresh_cropped)"
   ]
  },
  {
   "cell_type": "code",
   "execution_count": null,
   "id": "cbab4259",
   "metadata": {},
   "outputs": [],
   "source": [
    "borderless = skimage.segmentation.clear_border(thresh_cropped)\n",
    "plot_image(borderless)"
   ]
  },
  {
   "cell_type": "code",
   "execution_count": null,
   "id": "382cfc10",
   "metadata": {},
   "outputs": [],
   "source": [
    "final = cv2.bitwise_not(borderless)\n",
    "plot_image(final)"
   ]
  },
  {
   "cell_type": "code",
   "execution_count": null,
   "id": "984629cc",
   "metadata": {
    "scrolled": false
   },
   "outputs": [],
   "source": [
    "alphanumeric = \"ABCDEFGHIJKLMNOPQRSTUVWXYZ0123456789\"\n",
    "options = \"-c tessedit_char_whitelist={}\".format(alphanumeric)\n",
    "options += \" --psm 7\""
   ]
  },
  {
   "cell_type": "code",
   "execution_count": null,
   "id": "3c4ac536",
   "metadata": {},
   "outputs": [],
   "source": [
    "cv2.imwrite(\"Placa_guardada.png\", final)"
   ]
  },
  {
   "cell_type": "code",
   "execution_count": null,
   "id": "e7665f2f",
   "metadata": {},
   "outputs": [],
   "source": [
    "SP = Image.open(\"Placa_guardada.png\")"
   ]
  },
  {
   "cell_type": "code",
   "execution_count": null,
   "id": "4abf2ede",
   "metadata": {},
   "outputs": [],
   "source": [
    "resultado = pytesseract.image_to_string(SP, config=options)"
   ]
  },
  {
   "cell_type": "code",
   "execution_count": null,
   "id": "c97bae72",
   "metadata": {},
   "outputs": [],
   "source": [
    "print(resultado)"
   ]
  },
  {
   "cell_type": "code",
   "execution_count": null,
   "id": "4f4b47c8",
   "metadata": {},
   "outputs": [],
   "source": []
  }
 ],
 "metadata": {
  "kernelspec": {
   "display_name": "Python 3 (ipykernel)",
   "language": "python",
   "name": "python3"
  },
  "language_info": {
   "codemirror_mode": {
    "name": "ipython",
    "version": 3
   },
   "file_extension": ".py",
   "mimetype": "text/x-python",
   "name": "python",
   "nbconvert_exporter": "python",
   "pygments_lexer": "ipython3",
   "version": "3.9.12"
  }
 },
 "nbformat": 4,
 "nbformat_minor": 5
}
